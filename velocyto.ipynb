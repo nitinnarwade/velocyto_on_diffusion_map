{
 "cells": [
  {
   "cell_type": "code",
   "execution_count": null,
   "id": "b209aa90",
   "metadata": {},
   "outputs": [],
   "source": [
    "import umap\n",
    "from sklearn.manifold import TSNE\n",
    "\n",
    "import sys\n",
    "import os\n",
    "import numpy as np\n",
    "import pandas as pd\n",
    "import matplotlib\n",
    "import matplotlib.pyplot as plt\n",
    "import loompy\n",
    "import velocyto as vcy\n",
    "import logging\n",
    "from sklearn.svm import SVR\n",
    "from sklearn.linear_model import LinearRegression\n",
    "from statsmodels.nonparametric.smoothers_lowess import lowess\n",
    "from scipy.interpolate import interp1d\n"
   ]
  },
  {
   "cell_type": "code",
   "execution_count": null,
   "id": "b99e3b6e",
   "metadata": {},
   "outputs": [],
   "source": [
    "output_dir = \".\""
   ]
  },
  {
   "cell_type": "code",
   "execution_count": null,
   "id": "af20513a",
   "metadata": {},
   "outputs": [],
   "source": [
    "loomInput = f\"{output_dir}/velocyto_input.loom\"\n",
    "vlm = vcy.VelocytoLoom(loomInput)"
   ]
  },
  {
   "cell_type": "code",
   "execution_count": null,
   "id": "1d96dddf",
   "metadata": {},
   "outputs": [],
   "source": [
    "diff_map = pd.DataFrame(vlm.ca['X_diffmap'])\n",
    "vlm.ca['X_diffmap']  diff_map.iloc[:,[1,2]].to_numpy()\n",
    "vlm.dc =  vlm.ca['X_diffmap']\n",
    "vlm.ts =  vlm.ca['X_diffmap']"
   ]
  },
  {
   "cell_type": "code",
   "execution_count": null,
   "id": "7d8f0968",
   "metadata": {},
   "outputs": [],
   "source": [
    "clusters = np.array([str(i) for i in vlm.ca[\"Clusters\"]])\n",
    "colors20 = [\"#E41A1C\", \"#377EB8\", \"#4DAF4A\", \"#984EA3\", \"#FF7F00\", \"#A65628\", \"#F781BF\", \"#999999\", \"#1B9E77\", \"#D95F02\", \"#7570B3\", \"#E7298A\", \"#66A61E\", \"#E6AB02\", \"#A6761D\"]\n",
    "vlm.set_clusters(clusters, cluster_colors_dict={val:colors20[idx] for idx, val in enumerate(np.unique(clusters))})\n",
    "\n",
    "vlm.score_detection_levels(min_expr_counts=40, min_cells_express=30)\n",
    "vlm.filter_genes(by_detection_levels=True)\n",
    "\n",
    "vlm.score_cv_vs_mean(2000, plot=True, max_expr_avg=35)\n",
    "vlm.filter_genes(by_cv_vs_mean=True)\n",
    "\n",
    "vlm.score_detection_levels(min_expr_counts=0, min_cells_express=0, min_expr_counts_U=25, min_cells_express_U=20)\n",
    "vlm.score_cluster_expression(min_avg_U=0.01, min_avg_S=0.08)\n",
    "vlm.filter_genes(by_detection_levels=True, by_cluster_expression=True)\n",
    "\n",
    "vlm._normalize_S(relative_size=vlm.initial_cell_size, target_size=np.mean(vlm.initial_cell_size))\n",
    "vlm._normalize_U(relative_size=vlm.initial_Ucell_size, target_size=np.mean(vlm.initial_Ucell_size))\n",
    "\n",
    "vlm.perform_PCA()\n",
    "n_comps = np.where(np.diff(np.diff(np.cumsum(vlm.pca.explained_variance_ratio_))>0.002))[0][0]"
   ]
  },
  {
   "cell_type": "code",
   "execution_count": null,
   "id": "7bfe3813",
   "metadata": {},
   "outputs": [],
   "source": [
    "k = 500\n",
    "vlm.knn_imputation(n_pca_dims=n_comps, k=k, balanced=True, b_sight=np.minimum(k*8, vlm.S.shape[1]-1), b_maxl=np.minimum(k*4, vlm.S.shape[1]-1), n_jobs=16)\n",
    "vlm.fit_gammas(limit_gamma=False, fit_offset=False)\n",
    "vlm.predict_U()\n",
    "vlm.calculate_velocity()\n",
    "vlm.calculate_shift(assumption=\"constant_velocity\")\n",
    "vlm.extrapolate_cell_at_t(delta_t=1.)"
   ]
  },
  {
   "cell_type": "code",
   "execution_count": null,
   "id": "71775b89",
   "metadata": {},
   "outputs": [],
   "source": [
    "vlm.ra[\"Gene\"] = vlm.ra[\"var_names\"]\n",
    "clusters = np.array([str(i) for i in vlm.ca[\"Clusters\"]])\n",
    "vlm.set_clusters(clusters, cluster_colors_dict={val:colors20[idx] for idx, val in enumerate(np.unique(clusters))})"
   ]
  },
  {
   "cell_type": "code",
   "execution_count": null,
   "id": "3e5b135d",
   "metadata": {},
   "outputs": [],
   "source": [
    "vlm.estimate_transition_prob(hidim=\"Sx_sz\", embed=\"ts\", transform=\"sqrt\", psc=1, n_neighbors=2000, knn_random=True, sampled_fraction=0.5, n_jobs=16)\n",
    "vlm.calculate_embedding_shift(sigma_corr = 0.05, expression_scaling=False)\n",
    "vlm.calculate_grid_arrows(smooth=0.8, steps=(40, 40), n_neighbors=500)"
   ]
  },
  {
   "cell_type": "code",
   "execution_count": null,
   "id": "bf9b4476",
   "metadata": {},
   "outputs": [],
   "source": [
    "kwarg_plot = {\"alpha\": 1.0, \"s\": 50, \"edgecolor\": \"0.8\", \"lw\": 0.0}\n",
    "plt.figure(None,(10, 10))\n",
    "vcy.scatter_viz(vlm.flow[:,0], vlm.flow[:,1], c=\"k\", **kwarg_plot)\n",
    "vcy.scatter_viz(vlm.embedding[:,0], vlm.embedding[:,1], c=vlm.colorandum, **kwarg_plot)\n",
    "plt.axis(\"off\")\n",
    "plt.savefig(f\"{output_dir}/velocyto_diffmap_scatter.png\")\n",
    "plt.close()"
   ]
  },
  {
   "cell_type": "code",
   "execution_count": null,
   "id": "99337108",
   "metadata": {},
   "outputs": [],
   "source": [
    "plt.figure(None,(10, 10))\n",
    "vlm.plot_grid_arrows(quiver_scale=1, scatter_kwargs_dict={\"alpha\":0.5, \"lw\":0.35, \"edgecolor\":\"0.4\", \"s\":15, \"rasterized\":True}, min_mass=10, angles='xy', scale_units='xy', headaxislength=2.75, headlength=5, headwidth=4.8, minlength=0.5, scale_type = \"absolute\") #absolute relative\n",
    "plt.savefig(f\"{output_dir}/velocyto.png\")\n",
    "plt.close()"
   ]
  }
 ],
 "metadata": {
  "kernelspec": {
   "display_name": "Python 3",
   "language": "python",
   "name": "python3"
  },
  "language_info": {
   "codemirror_mode": {
    "name": "ipython",
    "version": 3
   },
   "file_extension": ".py",
   "mimetype": "text/x-python",
   "name": "python",
   "nbconvert_exporter": "python",
   "pygments_lexer": "ipython3",
   "version": "3.6.9"
  }
 },
 "nbformat": 4,
 "nbformat_minor": 5
}
